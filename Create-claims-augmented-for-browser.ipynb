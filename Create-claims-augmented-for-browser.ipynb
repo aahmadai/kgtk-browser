{
 "cells": [
  {
   "cell_type": "code",
   "execution_count": 9,
   "id": "f3e65b4f-591e-4a5d-b80b-36de29d3cd73",
   "metadata": {},
   "outputs": [],
   "source": [
    "import pandas as pd\n",
    "import os\n",
    "import sys\n",
    "from kgtk.configure_kgtk_notebooks import ConfigureKGTK\n",
    "from kgtk.functions import kgtk, kypher\n",
    "from kgtk.io.kgtkreader import KgtkReader\n",
    "from kgtk.io.kgtkwriter import KgtkWriter\n",
    "from pathlib import Path"
   ]
  },
  {
   "cell_type": "code",
   "execution_count": 2,
   "id": "7945ff66-c496-44c0-8f48-35695f4ca106",
   "metadata": {},
   "outputs": [],
   "source": [
    "# Parameters\n",
    "\n",
    "input_path = \"/Volumes/saggu-ssd/wikidata-dwd-v3\"\n",
    "output_path = \"/Volumes/saggu-ssd/wikidata-dwd-v3\"\n",
    "kgtk_path = \"/Users/amandeep/Github/kgtk\"\n",
    "\n",
    "dbpedia_path = \"\"\n",
    "\n",
    "graph_cache_path = None\n",
    "\n",
    "\n",
    "project_name = \"browser-claims-file\"\n",
    "files = 'claims'\n",
    "debug=True"
   ]
  },
  {
   "cell_type": "code",
   "execution_count": 3,
   "id": "9b48f39a-b53f-4e82-af77-519b2d6e6edb",
   "metadata": {},
   "outputs": [],
   "source": [
    "files = files.split(',')"
   ]
  },
  {
   "cell_type": "code",
   "execution_count": null,
   "id": "6fb7591b-6c65-4961-a8f2-026d268b52f2",
   "metadata": {},
   "outputs": [],
   "source": [
    "os.environ['DBPEDIA_PATH'] = dbpedia_path"
   ]
  },
  {
   "cell_type": "code",
   "execution_count": 4,
   "id": "d70bd4b7-e679-43b7-8512-8f8052822857",
   "metadata": {},
   "outputs": [
    {
     "name": "stdout",
     "output_type": "stream",
     "text": [
      "User home: /Users/amandeep\n",
      "Current dir: /Users/amandeep/Github/kgtk-browser\n",
      "KGTK dir: /Users/amandeep/Github/kgtk\n",
      "Use-cases dir: /Users/amandeep/Github/kgtk/use-cases\n"
     ]
    }
   ],
   "source": [
    "ck = ConfigureKGTK(files, kgtk_path=kgtk_path)\n",
    "ck.configure_kgtk(input_graph_path=input_path,\n",
    "                  output_path=output_path,\n",
    "                  project_name=project_name,\n",
    "                 graph_cache_path=graph_cache_path,\n",
    "                 debug=debug)"
   ]
  },
  {
   "cell_type": "code",
   "execution_count": 5,
   "id": "dbdaab6b-1524-49a7-9212-7eac023e3581",
   "metadata": {},
   "outputs": [
    {
     "name": "stdout",
     "output_type": "stream",
     "text": [
      "OUT: /Volumes/saggu-ssd/wikidata-dwd-v3/browser-claims-file\n",
      "kypher: kgtk --debug query --graph-cache /Volumes/saggu-ssd/wikidata-dwd-v3/browser-claims-file/temp.browser-claims-file/wikidata.sqlite3.db\n",
      "TEMP: /Volumes/saggu-ssd/wikidata-dwd-v3/browser-claims-file/temp.browser-claims-file\n",
      "KGTK_LABEL_FILE: /Volumes/saggu-ssd/wikidata-dwd-v3/labels.en.tsv.gz\n",
      "kgtk: kgtk --debug\n",
      "STORE: /Volumes/saggu-ssd/wikidata-dwd-v3/browser-claims-file/temp.browser-claims-file/wikidata.sqlite3.db\n",
      "EXAMPLES_DIR: /Users/amandeep/Github/kgtk/examples\n",
      "GRAPH: /Volumes/saggu-ssd/wikidata-dwd-v3\n",
      "USE_CASES_DIR: /Users/amandeep/Github/kgtk/use-cases\n",
      "KGTK_OPTION_DEBUG: false\n",
      "KGTK_GRAPH_CACHE: /Volumes/saggu-ssd/wikidata-dwd-v3/browser-claims-file/temp.browser-claims-file/wikidata.sqlite3.db\n",
      "claims: /Volumes/saggu-ssd/wikidata-dwd-v3/claims.tsv.gz\n"
     ]
    }
   ],
   "source": [
    "ck.print_env_variables()"
   ]
  },
  {
   "cell_type": "code",
   "execution_count": 10,
   "id": "cc6770cb-5592-47d3-9e32-a0cd31d4759d",
   "metadata": {},
   "outputs": [],
   "source": [
    "def separate_edges_and_qualifiers(input_file, output_edge_file, output_qualifier_file):\n",
    "    kr: KgtkReader = KgtkReader.open(Path(input_file),\n",
    "                                         error_file=sys.stderr)\n",
    "    ids = set()\n",
    "    for row in kr:\n",
    "        ids.add(row[kr.id_column_idx])\n",
    "    \n",
    "    kw_edge: KgtkWriter = KgtkWriter.open(file_path=Path(output_edge_file),\n",
    "                                          error_file=sys.stderr,\n",
    "                                          column_names=kr.column_names,\n",
    "                                          mode=KgtkWriter.Mode.EDGE,\n",
    "                                          no_header=False)\n",
    "    kw_qualifier: KgtkWriter = KgtkWriter.open(file_path=Path(output_qualifier_file),\n",
    "                                          error_file=sys.stderr,\n",
    "                                          column_names=kr.column_names,\n",
    "                                          mode=KgtkWriter.Mode.EDGE,\n",
    "                                          no_header=False)\n",
    "    for row in kr:\n",
    "        id = row[kr.id_column_idx]\n",
    "        node1 = row[kr.node1_column_idx]\n",
    "        if node1 in ids:\n",
    "            kw_qualifier.write(row)\n",
    "        else:\n",
    "            kw_edge.write(row)\n",
    "    \n",
    "    kr.close()\n",
    "    kw_edge.close()\n",
    "    kw_qualifier.close()    "
   ]
  },
  {
   "cell_type": "code",
   "execution_count": null,
   "id": "c175a517-2fe6-4b85-821e-83be88e44731",
   "metadata": {},
   "outputs": [],
   "source": [
    "curl https://raw.githubusercontent.com/usc-isi-i2/kgtk/dev/kgtk-properties/kgtk.properties.tsv -o $TEMP/kgtk.properties.tsv"
   ]
  },
  {
   "cell_type": "code",
   "execution_count": null,
   "id": "87496c70-1500-48bb-bdcf-605230eef6ef",
   "metadata": {},
   "outputs": [],
   "source": [
    "kgtk(\"\"\"filter -i $TEMP/kgtk.properties.tsv\n",
    "        -p ';label;'\n",
    "        -o $TEMP/kgtk.properties.labels.tsv\n",
    "\"\"\")"
   ]
  },
  {
   "cell_type": "code",
   "execution_count": null,
   "id": "aade813f-4394-48ba-8a1a-b73ce9a9f30d",
   "metadata": {},
   "outputs": [],
   "source": [
    "kgtk(\"\"\"filter -i $TEMP/kgtk.properties.tsv\n",
    "        -p ';alias;'\n",
    "        -o $TEMP/kgtk.properties.aliases.tsv\n",
    "\"\"\")"
   ]
  },
  {
   "cell_type": "code",
   "execution_count": null,
   "id": "66034d7c-fe5c-4ce6-b877-b28205b255d9",
   "metadata": {},
   "outputs": [],
   "source": [
    "kgtk(\"\"\"filter -i $TEMP/kgtk.properties.tsv\n",
    "        -p ';description;'\n",
    "        -o $TEMP/kgtk.properties.descriptions.tsv\n",
    "\"\"\")"
   ]
  },
  {
   "cell_type": "code",
   "execution_count": null,
   "id": "d3c064dd-4c02-448e-8208-9a3923cbc0d2",
   "metadata": {},
   "outputs": [],
   "source": [
    "kgtk(\"\"\"filter -i $TEMP/kgtk.properties.tsv\n",
    "        -p ';data_type;'\n",
    "        -o $TEMP/kgtk.properties.datatypes.tsv\n",
    "\"\"\")"
   ]
  },
  {
   "cell_type": "code",
   "execution_count": null,
   "id": "34f86c2d-7ce6-49df-8dd9-609bc6e281a3",
   "metadata": {},
   "outputs": [],
   "source": [
    "kgtk(\"\"\"filter -i $TEMP/kgtk.properties.tsv\n",
    "        -p ';label,alias,decscription,data_type;'\n",
    "        --invert\n",
    "        -o $TEMP/kgtk.properties.claims.tsv\n",
    "\"\"\")"
   ]
  },
  {
   "cell_type": "code",
   "execution_count": null,
   "id": "48f623ba-d031-431c-8da9-e65de3650ba5",
   "metadata": {},
   "outputs": [],
   "source": [
    "kgtk(\"\"\"cat \n",
    "    -i $GRAPH/statistics.Pinstance_count.star.tsv.gz\n",
    "    -i $GRAPH/statistics.Pinstance_count.tsv.gz\n",
    "    -i $GRAPH/derived.class.P1963computed.count.tsv.gz\n",
    "    -i $GRAPH/derived.P1963computed.count.star.tsv.gz\n",
    "    -i $GRAPH/derived.Pproperty_domain.tsv.gz\n",
    "    -i $TEMP/kgtk.properties.claims.tsv\n",
    "    -o $TEMP/derived.claims.augmented.tsv.gz\n",
    "\"\"\")"
   ]
  },
  {
   "cell_type": "code",
   "execution_count": null,
   "id": "76002326-e7fc-4fb9-971b-dfc6d050e861",
   "metadata": {},
   "outputs": [],
   "source": [
    "separate_edges_and_qualifiers(\"$TEMP/derived.claims.augmented.tsv.gz\",\n",
    "                              \"$TEMP/derived.claims.edges.tsv.gz,\n",
    "                              \"$TEMP/derived.claims.qualifiers.tsv.gz\""
   ]
  },
  {
   "cell_type": "code",
   "execution_count": null,
   "id": "1290c1c8-9eee-4342-9564-37db89ed895a",
   "metadata": {},
   "outputs": [],
   "source": [
    "kgtk(f\"\"\"cat \n",
    "        -i $GRAPH/labels.en.tsv.gz\n",
    "        -i $TEMP/kgtk.properties.labels.tsv\n",
    "        / sort\n",
    "         --extra '--parallel 24 --buffer-size 30% --temporary-directory {os.environ['TEMP']}'\n",
    "        -o $OUT/labels.en.tsv.gz\n",
    "\"\"\")"
   ]
  },
  {
   "cell_type": "code",
   "execution_count": null,
   "id": "3d3b99eb-650d-4c18-a195-2eace862cf31",
   "metadata": {},
   "outputs": [],
   "source": [
    "kgtk(f\"\"\"cat \n",
    "        -i $GRAPH/aliases.en.tsv.gz\n",
    "        -i $TEMP/kgtk.properties.aliases.tsv\n",
    "        / sort\n",
    "         --extra '--parallel 24 --buffer-size 30% --temporary-directory {os.environ['TEMP']}'\n",
    "        -o $OUT/aliases.en.tsv.gz\n",
    "\"\"\")"
   ]
  },
  {
   "cell_type": "code",
   "execution_count": null,
   "id": "228b82d7-3144-46dd-847d-56244effba58",
   "metadata": {},
   "outputs": [],
   "source": [
    "kgtk(f\"\"\"cat \n",
    "        -i $GRAPH/descriptions.en.tsv.gz\n",
    "        -i $TEMP/kgtk.properties.descriptions.tsv\n",
    "        / sort\n",
    "         --extra '--parallel 24 --buffer-size 30% --temporary-directory {os.environ['TEMP']}'\n",
    "        -o $OUT/descriptions.en.tsv.gz\n",
    "\"\"\")"
   ]
  },
  {
   "cell_type": "code",
   "execution_count": null,
   "id": "012fec42-7c3b-412d-87a9-e3ba94e9d372",
   "metadata": {},
   "outputs": [],
   "source": [
    "kgtk(f\"\"\"cat \n",
    "        -i $GRAPH/metadata.property.datatypes.tsv.gz\n",
    "        -i $TEMP/kgtk.properties.datatypes.tsv\n",
    "        / sort\n",
    "         --extra '--parallel 24 --buffer-size 30% --temporary-directory {os.environ['TEMP']}'\n",
    "        -o $OUT/metadata.property.datatypes.tsv.gz\n",
    "\"\"\")"
   ]
  },
  {
   "cell_type": "code",
   "execution_count": null,
   "id": "bc8c9626-acdc-43e6-86c6-7a135d4f2c09",
   "metadata": {},
   "outputs": [],
   "source": [
    "kgtk(f\"\"\"cat\n",
    "        -i $TEMP/derived.claims.qualifiers.tsv.gz\n",
    "        -i $GRAPH/qualifiers.tsv.gz\n",
    "        / sort \n",
    "         --extra '--parallel 24 --buffer-size 30% --temporary-directory {os.environ['TEMP']}'\n",
    "        -o $OUT/qualifiers.tsv.gz\n",
    "\"\"\")"
   ]
  },
  {
   "cell_type": "code",
   "execution_count": null,
   "id": "81c03cee-a97b-45ab-82d0-d2035748d0c9",
   "metadata": {},
   "outputs": [],
   "source": [
    "kgtk(f\"\"\"cat\n",
    "        -i $TEMP/derived.claims.edges.tsv.gz\n",
    "        -i $GRAPH/claims.tsv.gz\n",
    "        -i $DBPEDIA_PATH/downloaded.wikipedia.long_abstracts.tsv.gz\n",
    "        -i $DBPEDIA_PATH/downloaded.wikipedia.short_abstracts.tsv.gz\n",
    "        / sort \n",
    "         --extra '--parallel 24 --buffer-size 30% --temporary-directory {os.environ['TEMP']}'\n",
    "        -o $OUT/claims.tsv.gz\n",
    "\"\"\")"
   ]
  }
 ],
 "metadata": {
  "kernelspec": {
   "display_name": "kgtk-env",
   "language": "python",
   "name": "kgtk-env"
  },
  "language_info": {
   "codemirror_mode": {
    "name": "ipython",
    "version": 3
   },
   "file_extension": ".py",
   "mimetype": "text/x-python",
   "name": "python",
   "nbconvert_exporter": "python",
   "pygments_lexer": "ipython3",
   "version": "3.9.7"
  }
 },
 "nbformat": 4,
 "nbformat_minor": 5
}
